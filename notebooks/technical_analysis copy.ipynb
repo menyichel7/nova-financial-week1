{
 "cells": [
  {
   "cell_type": "code",
   "execution_count": null,
   "id": "7b7acbdc",
   "metadata": {},
   "outputs": [
    {
     "name": "stderr",
     "output_type": "stream",
     "text": [
      "C:\\Users\\Dawa Cloud\\AppData\\Local\\Temp\\ipykernel_15712\\4022936273.py:67: UserWarning: Creating legend with loc=\"best\" can be slow with large amounts of data.\n",
      "  plt.savefig(f'plots/{stock_symbol}_macd.png')\n"
     ]
    },
    {
     "name": "stdout",
     "output_type": "stream",
     "text": [
      "AAPL analysis complete. Plots saved in 'plots/' folder.\n"
     ]
    },
    {
     "name": "stderr",
     "output_type": "stream",
     "text": [
      "C:\\Users\\Dawa Cloud\\AppData\\Local\\Temp\\ipykernel_15712\\4022936273.py:67: UserWarning: Creating legend with loc=\"best\" can be slow with large amounts of data.\n",
      "  plt.savefig(f'plots/{stock_symbol}_macd.png')\n"
     ]
    },
    {
     "name": "stdout",
     "output_type": "stream",
     "text": [
      "AMZN analysis complete. Plots saved in 'plots/' folder.\n",
      "GOOG analysis complete. Plots saved in 'plots/' folder.\n",
      "META analysis complete. Plots saved in 'plots/' folder.\n"
     ]
    },
    {
     "name": "stderr",
     "output_type": "stream",
     "text": [
      "C:\\Users\\Dawa Cloud\\AppData\\Local\\Temp\\ipykernel_15712\\4022936273.py:67: UserWarning: Creating legend with loc=\"best\" can be slow with large amounts of data.\n",
      "  plt.savefig(f'plots/{stock_symbol}_macd.png')\n"
     ]
    },
    {
     "name": "stdout",
     "output_type": "stream",
     "text": [
      "MSFT analysis complete. Plots saved in 'plots/' folder.\n",
      "NVDA analysis complete. Plots saved in 'plots/' folder.\n",
      "TSLA analysis complete. Plots saved in 'plots/' folder.\n"
     ]
    }
   ],
   "source": [
    "import os\n",
    "import pandas as pd\n",
    "import talib\n",
    "import matplotlib.pyplot as plt\n",
    "\n",
    "os.makedirs('plots', exist_ok=True)\n",
    "\n",
    "# Get all CSV files in data directory\n",
    "data_dir = '../data/yfinance_data/'\n",
    "csv_files = [f for f in os.listdir(data_dir) if f.endswith('_historical_data.csv')]\n",
    "\n",
    "for filename in csv_files:\n",
    "    stock_symbol = filename.split('_')[0]  # Extract symbol from filename\n",
    "    file_path = os.path.join(data_dir, filename)\n",
    "\n",
    "    # Load CSV\n",
    "    df = pd.read_csv(file_path)\n",
    "    df['Date'] = pd.to_datetime(df['Date'])\n",
    "    df.sort_values('Date', inplace=True)\n",
    "\n",
    "    # Calculate indicators\n",
    "    df['SMA_20'] = talib.SMA(df['Close'], timeperiod=20)\n",
    "    df['EMA_20'] = talib.EMA(df['Close'], timeperiod=20)\n",
    "    df['RSI_14'] = talib.RSI(df['Close'], timeperiod=14)\n",
    "    df['MACD'], df['MACD_signal'], df['MACD_hist'] = talib.MACD(df['Close'], fastperiod=12, slowperiod=26, signalperiod=9)\n",
    "\n",
    "    # Plot closing price with SMA and EMA\n",
    "    plt.figure(figsize=(12, 6))\n",
    "    plt.plot(df['Date'], df['Close'], label='Close', color='black')\n",
    "    plt.plot(df['Date'], df['SMA_20'], label='SMA 20', color='blue')\n",
    "    plt.plot(df['Date'], df['EMA_20'], label='EMA 20', color='orange')\n",
    "    plt.title(f'{stock_symbol} - Close Price with SMA and EMA')\n",
    "    plt.xlabel('Date')\n",
    "    plt.ylabel('Price')\n",
    "    plt.legend()\n",
    "    plt.grid()\n",
    "    plt.tight_layout()\n",
    "    plt.savefig(f'plots/{stock_symbol}_price_sma_ema.png')\n",
    "    plt.close()\n",
    "\n",
    "    # Plot RSI\n",
    "    plt.figure(figsize=(12, 4))\n",
    "    plt.plot(df['Date'], df['RSI_14'], label='RSI 14', color='green')\n",
    "    plt.axhline(70, color='red', linestyle='--')\n",
    "    plt.axhline(30, color='red', linestyle='--')\n",
    "    plt.title(f'{stock_symbol} - RSI')\n",
    "    plt.xlabel('Date')\n",
    "    plt.ylabel('RSI')\n",
    "    plt.legend()\n",
    "    plt.grid()\n",
    "    plt.tight_layout()\n",
    "    plt.savefig(f'plots/{stock_symbol}_rsi.png')\n",
    "    plt.close()\n",
    "\n",
    "    # Plot MACD\n",
    "    plt.figure(figsize=(12, 4))\n",
    "    plt.plot(df['Date'], df['MACD'], label='MACD', color='blue')\n",
    "    plt.plot(df['Date'], df['MACD_signal'], label='Signal', color='red')\n",
    "    plt.bar(df['Date'], df['MACD_hist'], label='Histogram', color='grey')\n",
    "    plt.title(f'{stock_symbol} - MACD')\n",
    "    plt.xlabel('Date')\n",
    "    plt.ylabel('MACD')\n",
    "    plt.legend()\n",
    "    plt.grid()\n",
    "    plt.tight_layout()\n",
    "    plt.savefig(f'plots/{stock_symbol}_macd.png')\n",
    "    plt.close()\n",
    "\n",
    "    print(f\"{stock_symbol} analysis complete. Plots saved in 'plots/' folder.\")\n"
   ]
  }
 ],
 "metadata": {
  "kernelspec": {
   "display_name": "venv",
   "language": "python",
   "name": "python3"
  },
  "language_info": {
   "codemirror_mode": {
    "name": "ipython",
    "version": 3
   },
   "file_extension": ".py",
   "mimetype": "text/x-python",
   "name": "python",
   "nbconvert_exporter": "python",
   "pygments_lexer": "ipython3",
   "version": "3.11.2"
  }
 },
 "nbformat": 4,
 "nbformat_minor": 5
}
