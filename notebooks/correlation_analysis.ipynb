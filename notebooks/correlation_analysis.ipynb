{
 "cells": [
  {
   "cell_type": "code",
   "execution_count": 3,
   "id": "a2a3245a",
   "metadata": {},
   "outputs": [
    {
     "name": "stdout",
     "output_type": "stream",
     "text": [
      "Sentiment analysis complete. File saved as 'data/sentiment_data.csv'.\n"
     ]
    }
   ],
   "source": [
    "import pandas as pd\n",
    "from textblob import TextBlob\n",
    "\n",
    "# Load raw news dataset\n",
    "df_news = pd.read_csv('../data/raw_analyst_ratings.csv/raw_analyst_ratings.csv')  # Adjust path as needed\n",
    "\n",
    "# Convert date column to datetime\n",
    "df_news['date'] = pd.to_datetime(df_news['date'], errors='coerce')\n",
    "\n",
    "# Define a function to calculate sentiment polarity using TextBlob\n",
    "def get_sentiment(text):\n",
    "    if pd.isna(text):\n",
    "        return 0.0  # Neutral if no text\n",
    "    return TextBlob(text).sentiment.polarity  # returns value between -1 (negative) and 1 (positive)\n",
    "\n",
    "# Apply sentiment function on headlines\n",
    "df_news['sentiment_score'] = df_news['headline'].apply(get_sentiment)\n",
    "\n",
    "# Select relevant columns for output\n",
    "df_sentiment = df_news[['date', 'stock', 'headline', 'sentiment_score']]\n",
    "\n",
    "# Save to CSV\n",
    "df_sentiment.to_csv('../data/sentiment_data.csv', index=False)\n",
    "\n",
    "print(\"Sentiment analysis complete. File saved as 'data/sentiment_data.csv'.\")\n"
   ]
  },
  {
   "cell_type": "code",
   "execution_count": 16,
   "id": "5af461b8",
   "metadata": {},
   "outputs": [
    {
     "name": "stdout",
     "output_type": "stream",
     "text": [
      " Loading sentiment data...\n",
      " Sentiment Data Loaded: (1407328, 5)\n",
      " Sentiment Columns: Index(['date', 'stock', 'headline', 'sentiment_score', 'Date'], dtype='object')\n",
      " Found stock files: ['AAPL_historical_data.csv', 'AMZN_historical_data.csv', 'GOOG_historical_data.csv', 'META_historical_data.csv', 'MSFT_historical_data.csv', 'NVDA_historical_data.csv', 'TSLA_historical_data.csv']\n",
      "AAPL: Merged rows = 10\n",
      "AAPL: Correlation = -0.2130\n",
      "AMZN: Merged rows = 10\n",
      "AMZN: Correlation = -0.5381\n",
      "GOOG: Merged rows = 10\n",
      "GOOG: Correlation = -0.2829\n",
      "META: No sentiment data available.\n",
      "MSFT: No sentiment data available.\n",
      "NVDA: Merged rows = 9\n",
      "NVDA: Correlation = 0.0587\n",
      "TSLA: Merged rows = 10\n",
      "TSLA: Correlation = nan\n"
     ]
    },
    {
     "name": "stderr",
     "output_type": "stream",
     "text": [
      "e:\\Kifya\\nova-financial-week1\\venv\\Lib\\site-packages\\numpy\\lib\\function_base.py:2854: RuntimeWarning: invalid value encountered in divide\n",
      "  c /= stddev[:, None]\n",
      "e:\\Kifya\\nova-financial-week1\\venv\\Lib\\site-packages\\numpy\\lib\\function_base.py:2855: RuntimeWarning: invalid value encountered in divide\n",
      "  c /= stddev[None, :]\n"
     ]
    },
    {
     "name": "stdout",
     "output_type": "stream",
     "text": [
      "\n",
      " All results saved in 'output' directory.\n"
     ]
    }
   ],
   "source": [
    "import os\n",
    "import pandas as pd\n",
    "import matplotlib.pyplot as plt\n",
    "\n",
    "# Directories\n",
    "data_dir = '../data'\n",
    "stock_data_subdir = os.path.join(data_dir, 'yfinance_data')\n",
    "sentiment_file = os.path.join(data_dir, 'sentiment_data.csv')\n",
    "output_dir = 'output'\n",
    "os.makedirs(output_dir, exist_ok=True)\n",
    "\n",
    "print(\" Loading sentiment data...\")\n",
    "sentiment_df = pd.read_csv(sentiment_file)\n",
    "\n",
    "#  Convert to datetime and remove timezone before normalizing\n",
    "sentiment_df['date'] = pd.to_datetime(sentiment_df['date']).dt.tz_localize(None)\n",
    "sentiment_df['Date'] = sentiment_df['date'].dt.normalize()\n",
    "\n",
    "\n",
    "print(f\" Sentiment Data Loaded: {sentiment_df.shape}\")\n",
    "print(f\" Sentiment Columns: {sentiment_df.columns}\")\n",
    "\n",
    "correlation_results = []\n",
    "\n",
    "stock_files = [f for f in os.listdir(stock_data_subdir) if f.endswith('_historical_data.csv')]\n",
    "print(f\" Found stock files: {stock_files}\")\n",
    "\n",
    "for file in stock_files:\n",
    "    stock_name = file.split('_')[0]\n",
    "    stock_path = os.path.join(stock_data_subdir, file)\n",
    "    \n",
    "    stock_df = pd.read_csv(stock_path)\n",
    "    stock_df['Date'] = pd.to_datetime(stock_df['Date'])\n",
    "    stock_df.sort_values('Date', inplace=True)\n",
    "    stock_df['Return'] = stock_df['Close'].pct_change()\n",
    "\n",
    "    stock_sentiment = sentiment_df[sentiment_df['stock'] == stock_name]\n",
    "    if stock_sentiment.empty:\n",
    "        print(f\"{stock_name}: No sentiment data available.\")\n",
    "        continue\n",
    "\n",
    "    stock_sentiment = stock_sentiment[['Date', 'sentiment_score']]\n",
    "    # Optionally: Filter out zero sentiment scores (uncomment next line)\n",
    "    # stock_sentiment = stock_sentiment[stock_sentiment['sentiment_score'] != 0]\n",
    "\n",
    "    merged_df = pd.merge(\n",
    "        stock_df[['Date', 'Return']],\n",
    "        stock_sentiment,\n",
    "        on='Date',\n",
    "        how='inner'\n",
    "    )\n",
    "    merged_df.rename(columns={'sentiment_score': 'Sentiment'}, inplace=True)\n",
    "    merged_df.dropna(inplace=True)\n",
    "\n",
    "    print(f\"{stock_name}: Merged rows = {len(merged_df)}\")\n",
    "\n",
    "    # Save merged data to CSV\n",
    "    merged_csv_path = os.path.join(output_dir, f\"{stock_name}_merged.csv\")\n",
    "    merged_df.to_csv(merged_csv_path, index=False)\n",
    "\n",
    "    # Plot scatter if enough data\n",
    "    if len(merged_df) > 1:\n",
    "        correlation = merged_df['Return'].corr(merged_df['Sentiment'])\n",
    "        correlation_results.append({'Stock': stock_name, 'Correlation': correlation})\n",
    "        print(f\"{stock_name}: Correlation = {correlation:.4f}\")\n",
    "\n",
    "        # Plot\n",
    "        plt.figure(figsize=(6, 4))\n",
    "        plt.scatter(merged_df['Sentiment'], merged_df['Return'], alpha=0.6)\n",
    "        plt.title(f\"{stock_name}: Sentiment vs Return (Corr={correlation:.2f})\")\n",
    "        plt.xlabel('Sentiment Score')\n",
    "        plt.ylabel('Daily Return')\n",
    "        plt.grid(True)\n",
    "        plt.tight_layout()\n",
    "        plot_path = os.path.join(output_dir, f\"{stock_name}_scatter.png\")\n",
    "        plt.savefig(plot_path)\n",
    "        plt.close()\n",
    "    else:\n",
    "        print(f\"{stock_name}: Not enough data points to calculate correlation.\")\n",
    "\n",
    "# Save final correlations\n",
    "results_df = pd.DataFrame(correlation_results)\n",
    "results_csv = os.path.join(output_dir, 'correlation_results.csv')\n",
    "results_df.to_csv(results_csv, index=False)\n",
    "\n",
    "print(f\"\\n All results saved in '{output_dir}' directory.\")\n"
   ]
  }
 ],
 "metadata": {
  "kernelspec": {
   "display_name": "venv",
   "language": "python",
   "name": "python3"
  },
  "language_info": {
   "codemirror_mode": {
    "name": "ipython",
    "version": 3
   },
   "file_extension": ".py",
   "mimetype": "text/x-python",
   "name": "python",
   "nbconvert_exporter": "python",
   "pygments_lexer": "ipython3",
   "version": "3.11.2"
  }
 },
 "nbformat": 4,
 "nbformat_minor": 5
}
